{
 "cells": [
  {
   "cell_type": "markdown",
   "id": "d3d50930",
   "metadata": {},
   "source": [
    "# 🛍️ E-Commerce Recommender System\n",
    "This notebook contains both Content-Based and Collaborative Filtering implementations with Streamlit UI."
   ]
  },
  {
   "cell_type": "code",
   "execution_count": 1,
   "id": "0b425aef",
   "metadata": {},
   "outputs": [],
   "source": [
    "import streamlit as st\n",
    "import pandas as pd\n",
    "from sklearn.feature_extraction.text import TfidfVectorizer\n",
    "from sklearn.metrics.pairwise import cosine_similarity\n",
    "\n",
    "from surprise import SVD, Dataset, Reader\n",
    "from surprise.model_selection import train_test_split\n"
   ]
  },
  {
   "cell_type": "code",
   "execution_count": 2,
   "id": "05a85543",
   "metadata": {},
   "outputs": [],
   "source": [
    "# Product data for content-based filtering\n",
    "product_data = pd.DataFrame({\n",
    "    'product_id': ['P1', 'P2', 'P3', 'P4', 'P5'],\n",
    "    'product_name': ['Red Shirt', 'Blue Jeans', 'Black Shoes', 'White Shirt', 'Red Skirt'],\n",
    "    'description': [\n",
    "        'Red cotton shirt for men',\n",
    "        'Blue denim jeans for casual wear',\n",
    "        'Black leather shoes for formal use',\n",
    "        'White cotton shirt, formal wear',\n",
    "        'Red mini skirt, party wear'\n",
    "    ]\n",
    "})\n",
    "\n",
    "# User-product ratings for collaborative filtering\n",
    "rating_data = pd.DataFrame({\n",
    "    'user_id': ['U1', 'U1', 'U2', 'U2', 'U3'],\n",
    "    'product_id': ['P1', 'P2', 'P2', 'P3', 'P4'],\n",
    "    'rating': [5, 4, 5, 3, 4]\n",
    "})\n"
   ]
  },
  {
   "cell_type": "code",
   "execution_count": 3,
   "id": "c34a6db2",
   "metadata": {},
   "outputs": [],
   "source": [
    "def content_based_recommend(product_name, top_n=3):\n",
    "    tfidf = TfidfVectorizer(stop_words='english')\n",
    "    tfidf_matrix = tfidf.fit_transform(product_data['description'])\n",
    "    cosine_sim = cosine_similarity(tfidf_matrix, tfidf_matrix)\n",
    "\n",
    "    idx = product_data[product_data['product_name'] == product_name].index[0]\n",
    "    sim_scores = list(enumerate(cosine_sim[idx]))\n",
    "    sim_scores = sorted(sim_scores, key=lambda x: x[1], reverse=True)[1:top_n+1]\n",
    "    recommended = [product_data['product_name'][i[0]] for i in sim_scores]\n",
    "    return recommended\n"
   ]
  },
  {
   "cell_type": "code",
   "execution_count": 4,
   "id": "74caf931",
   "metadata": {},
   "outputs": [],
   "source": [
    "def train_collaborative_model():\n",
    "    reader = Reader(rating_scale=(1, 5))\n",
    "    data = Dataset.load_from_df(rating_data[['user_id', 'product_id', 'rating']], reader)\n",
    "    trainset, _ = train_test_split(data, test_size=0.2)\n",
    "    model = SVD()\n",
    "    model.fit(trainset)\n",
    "    return model\n",
    "\n",
    "model = train_collaborative_model()\n",
    "\n",
    "def predict_rating(user_id, product_id):\n",
    "    pred = model.predict(user_id, product_id)\n",
    "    return round(pred.est, 2)\n"
   ]
  },
  {
   "cell_type": "code",
   "execution_count": 5,
   "id": "9fa4ea1e",
   "metadata": {},
   "outputs": [
    {
     "name": "stderr",
     "output_type": "stream",
     "text": [
      "2025-06-18 22:09:22.543 \n",
      "  \u001b[33m\u001b[1mWarning:\u001b[0m to view this Streamlit app on a browser, run it with the following\n",
      "  command:\n",
      "\n",
      "    streamlit run C:\\Users\\Lenovo\\anaconda3\\Lib\\site-packages\\ipykernel_launcher.py [ARGUMENTS]\n",
      "2025-06-18 22:09:22.547 Session state does not function when running a script without `streamlit run`\n"
     ]
    }
   ],
   "source": [
    "st.set_page_config(page_title=\"E-Commerce Recommender\", layout=\"centered\")\n",
    "st.title(\"🛍️ E-Commerce Recommender System\")\n",
    "\n",
    "tab1, tab2 = st.tabs([\"📌 Content-Based\", \"📌 Collaborative Filtering\"])\n",
    "\n",
    "# ---------- Tab 1: Content-Based -----------\n",
    "with tab1:\n",
    "    st.header(\"Content-Based Recommendations\")\n",
    "    selected_product = st.selectbox(\"Choose a product you like:\", product_data['product_name'].tolist())\n",
    "\n",
    "    if selected_product:\n",
    "        recs = content_based_recommend(selected_product)\n",
    "        st.subheader(\"You may also like 👇\")\n",
    "        for r in recs:\n",
    "            st.markdown(f\"✅ {r}\")\n",
    "\n",
    "# ---------- Tab 2: Collaborative Filtering -----------\n",
    "with tab2:\n",
    "    st.header(\"Collaborative Filtering Predictions\")\n",
    "    selected_user = st.selectbox(\"Choose a user ID:\", rating_data['user_id'].unique())\n",
    "    selected_prod = st.selectbox(\"Choose a product ID:\", product_data['product_id'].unique())\n",
    "\n",
    "    if selected_user and selected_prod:\n",
    "        rating = predict_rating(selected_user, selected_prod)\n",
    "        st.subheader(f\"🔮 Predicted Rating by {selected_user} for {selected_prod}: **{rating}⭐**\")\n"
   ]
  },
  {
   "cell_type": "code",
   "execution_count": null,
   "id": "fe18036d-9c0e-4dc4-a760-f29953ee0e31",
   "metadata": {},
   "outputs": [],
   "source": []
  },
  {
   "cell_type": "code",
   "execution_count": null,
   "id": "2ea3e8ea-12e8-41d6-9dcf-5c7db398a3d0",
   "metadata": {},
   "outputs": [],
   "source": []
  }
 ],
 "metadata": {
  "kernelspec": {
   "display_name": "Python 3 (ipykernel)",
   "language": "python",
   "name": "python3"
  },
  "language_info": {
   "codemirror_mode": {
    "name": "ipython",
    "version": 3
   },
   "file_extension": ".py",
   "mimetype": "text/x-python",
   "name": "python",
   "nbconvert_exporter": "python",
   "pygments_lexer": "ipython3",
   "version": "3.12.7"
  }
 },
 "nbformat": 4,
 "nbformat_minor": 5
}
